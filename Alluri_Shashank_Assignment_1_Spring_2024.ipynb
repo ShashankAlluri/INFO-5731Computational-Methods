{
  "cells": [
    {
      "cell_type": "markdown",
      "metadata": {
        "id": "view-in-github",
        "colab_type": "text"
      },
      "source": [
        "<a href=\"https://colab.research.google.com/github/ShashankAlluri28/INFO-5731Computational-Methods/blob/main/Alluri_Shashank_Assignment_1_Spring_2024.ipynb\" target=\"_parent\"><img src=\"https://colab.research.google.com/assets/colab-badge.svg\" alt=\"Open In Colab\"/></a>"
      ]
    },
    {
      "cell_type": "markdown",
      "metadata": {
        "id": "Ryk8D1Q4Wsrp"
      },
      "source": [
        "# **INFO5731 Assignment One**"
      ]
    },
    {
      "cell_type": "markdown",
      "source": [
        "This assignment includes range of programming tasks and data analysis exercises, aiming to enhance your Python skills and proficiency in string manipulation, numerical computations, and data science. Follow the instructions carefully and design well-structured Python programs to address each question.\n",
        "\n",
        "Late Submission will have a penalty of 10% reduction for each day after the deadline."
      ],
      "metadata": {
        "id": "qcP6re2g5A5r"
      }
    },
    {
      "cell_type": "markdown",
      "metadata": {
        "id": "JkzR8cFAyGik"
      },
      "source": [
        "# Question 1 (10 points).\n",
        "\n",
        "The formula that describes the volume V of a hemisphere with radius r is the following:\n",
        "\n",
        "$ V=\\frac{2}{3}\\ast\\ \\pi\\ast\\ r^3 $\n",
        "\n",
        "Write a program to calculate the value of V when r is in the range of even numbers from 1-20. Output the result in the following format:\n",
        "\n",
        "\tr\tV\n",
        "\t2\t…\n",
        "\t4\t…\n",
        "\t6\t…\n",
        "\t.\n",
        "\t.\n",
        "\t.\n",
        "\t20\t…\n"
      ]
    },
    {
      "cell_type": "code",
      "execution_count": 42,
      "metadata": {
        "id": "jDyTKYs-yGit",
        "colab": {
          "base_uri": "https://localhost:8080/"
        },
        "outputId": "44a66d97-1074-4614-b55d-068202f183d8"
      },
      "outputs": [
        {
          "output_type": "stream",
          "name": "stdout",
          "text": [
            "r    V\n",
            "2    16.755160819145562\n",
            "4    134.0412865531645\n",
            "6    452.38934211693015\n",
            "8    1072.330292425316\n",
            "10    2094.3951023931954\n",
            "12    3619.114736935441\n",
            "14    5747.0201609669275\n",
            "16    8578.642339402528\n",
            "18    12214.512237157114\n",
            "20    16755.160819145563\n"
          ]
        }
      ],
      "source": [
        "# Your code here\n",
        "import math\n",
        "print(\"r    V\")\n",
        "for r in range(2,21,2):\n",
        "  v = (2/3) * math.pi * (r)**3\n",
        "  print(f\"{r}    {v}\")\n",
        "\n"
      ]
    },
    {
      "cell_type": "markdown",
      "metadata": {
        "id": "90_NR8c5XGWc"
      },
      "source": [
        "# Question 2 (20 points)\n",
        "\n",
        "(a) Write a Python program to generate a sequence of 12 random numbers falling within the range of 50 to 150.\n",
        "\n",
        "(b) Arrange the generated numbers in ascending order. Display the sorted list.\n",
        "\n",
        "(c) Extend the program to arrange the numbers in descending order as well. Present the sorted list accordingly.\n",
        "\n",
        "(d) Compute and output the average of the entire group of generated numbers.\n",
        "\n",
        "(e) Enhance the program to calculate and display the average of the first 6 numbers from both the ascending and descending sorted lists."
      ]
    },
    {
      "cell_type": "code",
      "execution_count": 43,
      "metadata": {
        "id": "5QX6bJjGWXY9",
        "colab": {
          "base_uri": "https://localhost:8080/"
        },
        "outputId": "0dbcaf16-09cf-40bf-a392-108c7a2dc14e"
      },
      "outputs": [
        {
          "output_type": "stream",
          "name": "stdout",
          "text": [
            "Random Sequence: [78, 144, 132, 137, 81, 132, 80, 124, 128, 102, 142, 76]\n",
            "\n",
            "\n",
            "Generated numbers in Ascending order: \n",
            "[76, 78, 80, 81, 102, 124, 128, 132, 132, 137, 142, 144]\n",
            "\n",
            "\n",
            "Generated numbers in Decending order: \n",
            "[144, 142, 137, 132, 132, 128, 124, 102, 81, 80, 78, 76]\n",
            "\n",
            "\n",
            "Average of all the generated numbers: \n",
            "113.0\n",
            "\n",
            "\n",
            "Average from first 6 numbers of ascending order: \n",
            "90.16666666666667\n",
            "Average from first 6 numbers of decending order: \n",
            "135.83333333333334\n"
          ]
        }
      ],
      "source": [
        "# Write code for each of the sub parts with proper comments.\n",
        "\n",
        "# a) 12 random numbers within the range 50 to 150\n",
        "import random\n",
        "def generate_random_sequence(size, mn, mx):\n",
        "    return [random.randint(mn, mx) for _ in range(size)]\n",
        "\n",
        "def cal_average(random_sequence):\n",
        "  return sum(random_sequence)/len(random_sequence)\n",
        "\n",
        "random_sequence = generate_random_sequence(12, 50, 150)\n",
        "print(\"Random Sequence:\", random_sequence)\n",
        "print(\"\\n\")\n",
        "\n",
        "# b) generated numbers in ascending order\n",
        "print(\"Generated numbers in Ascending order: \")\n",
        "ascending_random_sequence = sorted(random_sequence)\n",
        "print(ascending_random_sequence)\n",
        "print(\"\\n\")\n",
        "\n",
        "# c) generated numbers in decending order\n",
        "print(\"Generated numbers in Decending order: \")\n",
        "decending_random_sequence = sorted(random_sequence,reverse=True)\n",
        "print(decending_random_sequence)\n",
        "print(\"\\n\")\n",
        "\n",
        "# d) the average of the entire group of generated numbers\n",
        "print(\"Average of all the generated numbers: \")\n",
        "print(cal_average(random_sequence))\n",
        "print(\"\\n\")\n",
        "\n",
        "# e) the average of the first 6 numbers of ascending and decending order\n",
        "print(\"Average from first 6 numbers of ascending order: \")\n",
        "first_six_ascending_numbers = ascending_random_sequence[:6]\n",
        "print(cal_average(first_six_ascending_numbers))\n",
        "first_six_decending_numbers = decending_random_sequence[:6]\n",
        "print(\"Average from first 6 numbers of decending order: \")\n",
        "print(cal_average(first_six_decending_numbers))\n"
      ]
    },
    {
      "cell_type": "markdown",
      "metadata": {
        "id": "1F_PZdH9Sh49"
      },
      "source": [
        "# Question 3 (20 points).\n",
        "\n",
        "Create a Python program that encompasses various string manipulation task:\n",
        "\n",
        "(a) Prompt the user to input two sentences.\n",
        "\n",
        "(b) Transform each sentence into a list, where each element corresponds to a word in the sentence. For example, if the sentences are \"Hello, how are you doing today?\" and \"This is an example sentence for the program!\"\n",
        "\n",
        "The program should output:\n",
        "['Hello', ',', 'how', 'are', 'you', 'doing', 'today', '?', 'This', 'is', 'an', 'example', 'sentence', 'for', 'the', 'program', '!']\n",
        "\n",
        "(c) Compare the two sentences. Print out a list of words that occur in both sentences.\n",
        "\n",
        "(d) Remove any punctuation from the sentence and print the sanitized sentences. It should remove at least the following characters, but it can remove more: period(“.”), comma (“,”), semicolon (“;”), and colon (“:”).\n",
        "\n",
        "(e) Count the number of vowels in each of the sentences. Print out each vowel and the occurrences  in the each of the two sentences separately, such as:\n",
        "\n",
        "Sentence1: a:2, e:2, i:0, etc.\n",
        "Sentence2: a:1, e:2, i:2, etc.\n",
        "\n",
        "Design a well-structured Python program to execute these tasks efficiently."
      ]
    },
    {
      "cell_type": "code",
      "execution_count": 44,
      "metadata": {
        "id": "Y0oOSlsOS0cq",
        "colab": {
          "base_uri": "https://localhost:8080/"
        },
        "outputId": "14d52474-9c91-4df8-9910-c745842167d4"
      },
      "outputs": [
        {
          "output_type": "stream",
          "name": "stdout",
          "text": [
            "Enter the first sentence: India has lot of talented people\n",
            "Enter the second sentence: America has lot of opportunities\n",
            "Transformed sentences:\n",
            "['India', 'has', 'lot', 'of', 'talented', 'people', 'America', 'has', 'lot', 'of', 'opportunities']\n",
            "\n",
            "Common words:\n",
            "['has', 'of', 'lot']\n",
            "\n",
            "Sanitized sentences:\n",
            "India has lot of talented people\n",
            "America has lot of opportunities\n",
            "\n",
            "Vowel counts:\n",
            "Sentence1: a:3, e:4, i:2, o:3, u:0, \n",
            "Sentence2: a:3, e:2, i:3, o:4, u:1, \n"
          ]
        }
      ],
      "source": [
        "# Your code here\n",
        "import string\n",
        "\n",
        "def get_list(s):\n",
        "    words = s.split()\n",
        "    return [word.strip(string.punctuation) for word in words]\n",
        "\n",
        "def find_common_words(l1, l2):\n",
        "    return list(set(l1) & set(l2))\n",
        "\n",
        "def remove_punctuation(sentence):\n",
        "    return sentence.translate(str.maketrans(\"\", \"\", string.punctuation))\n",
        "\n",
        "def get_vowels(s):\n",
        "    vowels = \"aeiou\"\n",
        "    vowel_count = {vowel: s.lower().count(vowel) for vowel in vowels}\n",
        "    return vowel_count\n",
        "\n",
        "def print_vowel_counts(sentence, count):\n",
        "    print(f\"{sentence}: \", end=\"\")\n",
        "    for vowel, occurrences in count.items():\n",
        "        print(f\"{vowel}:{occurrences}, \", end=\"\")\n",
        "    print()\n",
        "\n",
        "s1=input(\"Enter the first sentence: \")\n",
        "s2=input(\"Enter the second sentence: \")\n",
        "l1 = list(s1.split())\n",
        "l2 = list(s2.split())\n",
        "common_words = find_common_words(l1, l2)\n",
        "\n",
        "print(\"Transformed sentences:\")\n",
        "print(l1 + l2)\n",
        "\n",
        "print(\"\\nCommon words:\")\n",
        "print(common_words)\n",
        "updated_s1 = remove_punctuation(s1)\n",
        "updated_s2 = remove_punctuation(s2)\n",
        "\n",
        "print(\"\\nSanitized sentences:\")\n",
        "print(updated_s1)\n",
        "print(updated_s2)\n",
        "\n",
        "vowels_s1 = get_vowels(s1)\n",
        "vowels_s2 = get_vowels(s2)\n",
        "\n",
        "print(\"\\nVowel counts:\")\n",
        "print_vowel_counts(\"Sentence1\", vowels_s1)\n",
        "print_vowel_counts(\"Sentence2\", vowels_s2)"
      ]
    },
    {
      "cell_type": "markdown",
      "source": [
        "# Question 4 (20 Points)"
      ],
      "metadata": {
        "id": "OP4-5qxAtInv"
      }
    },
    {
      "cell_type": "markdown",
      "source": [
        "Design and implement a simple command-line calculator program. The program should handle both integers and floating-point numbers.\n",
        "\n",
        "(a) Write program that takes a mathematical expression as input and evaluates it. The program should support addition, subtraction, multiplication, and division.\n",
        "\n",
        "(b) Extend the calculator to handle parentheses in mathematical expressions. Implement the necessary logic to evaluate expressions with nested parentheses.\n",
        "\n",
        "(c) Enhance your calculator to include additional mathematical operations such as exponentiation, square root, and modulus.\n",
        "\n",
        "(d) Implement error handling in the calculator program. Handle cases such as division by zero and invalid input expressions. Provide meaningful error messages.\n",
        "\n",
        "(e) Implement a command to exit the calculator."
      ],
      "metadata": {
        "id": "uzN4_hDptK9U"
      }
    },
    {
      "cell_type": "code",
      "source": [
        "# Your code here\n",
        "def evaluate(exp):\n",
        "    try:\n",
        "        return eval(exp)\n",
        "    except ZeroDivisionError:\n",
        "        return \"Division by zero Error\"\n",
        "    except SyntaxError:\n",
        "        return \"Invalid expression\"\n",
        "\n",
        "def calc():\n",
        "    print(\"Calculator\")\n",
        "    print(\"Enter '-1' to exit\")\n",
        "\n",
        "    while True:\n",
        "        exp=input(\"Enter expression: \")\n",
        "        if exp=='-1':\n",
        "            break\n",
        "        res = evaluate(exp)\n",
        "        print(\"Result:\", res)\n",
        "calc()\n"
      ],
      "metadata": {
        "id": "8nQnVxjJuYtu",
        "colab": {
          "base_uri": "https://localhost:8080/"
        },
        "outputId": "5e2f8564-de04-4aea-dbce-d49ceb4e9140"
      },
      "execution_count": 54,
      "outputs": [
        {
          "name": "stdout",
          "output_type": "stream",
          "text": [
            "Calculator\n",
            "Enter '-1' to exit\n",
            "Enter expression: 12+24\n",
            "Result: 36\n",
            "Enter expression: 36-12\n",
            "Result: 24\n",
            "Enter expression: 36*12\n",
            "Result: 432\n",
            "Enter expression: 432/2\n",
            "Result: 216.0\n",
            "Enter expression: 24**2\n",
            "Result: 576\n",
            "Enter expression: 17%5\n",
            "Result: 2\n",
            "Enter expression: 25**2\n",
            "Result: 625\n",
            "Enter expression: -1\n"
          ]
        }
      ]
    },
    {
      "cell_type": "markdown",
      "metadata": {
        "id": "z3tBE7E-Xn5X"
      },
      "source": [
        "# Question 5 (30 points).\n",
        "\n",
        "In the field of Data Science, data is often formatted as a comma-delimited (CSV) file, where each line in a file corresponds to a field's value. Refer to Chapter 9 (p. 106) for more information on comma-delimited files.\n",
        "\n",
        "To answer this question, you will need to download the file [Assignment1_denton_housing.csv](https://raw.githubusercontent.com/unt-iialab/info5731-spring2022/main/assignments/Assignment1_denton_housing.csv) included with this assignment. The file contains statistics about housing in the city of Denton from 2008 to 2014. Write a program to implement the following questions.\n",
        "\n",
        "(a) (5 pts) Calculate the difference in the number of Occupied Housing Units from year to year and print it. The difference must be calculated for the consecutive years such as 2008-2009, 2009-2010 etc. Finally, print the values in the ascending order.\n",
        "\n",
        "(b) (5 pts) For all the years, calculate the percentage of housing units which are vacant an occupied. Print the results in the following format:\n",
        "\n",
        "Year Vacant Housing Units Occupied Housing Units\n",
        "\n",
        "    2008  30%   70%                          \n",
        "\t2009 ----- -----\n",
        "\t2010 ----- -----\n",
        "    2011 ----- -----\n",
        "\t2012 ----- -----\n",
        "    2013 ----- -----\n",
        "\t2014 ----- -----\n",
        "  \n",
        "  \n",
        "\n",
        "(c) (10 pts) Calculate and print the valued and years in which the highest number of housing units were vacant and occupied. Print the results in the following format:  \n",
        "\n",
        "                              Year\tValue\n",
        "\tVacant Housing Units\t  -----   -----\n",
        "\tOccupied Housing Units\t-----   -----\n",
        "\n",
        "(d) (10 pts) Calculate the harmonic mean of the total housing units and print it out. You can find the information about harmonic mean here: https://ncalculators.com/statistics/harmonic-mean-calculator.htm"
      ]
    },
    {
      "cell_type": "code",
      "execution_count": 55,
      "metadata": {
        "id": "lqGYuHBhcsRH",
        "colab": {
          "base_uri": "https://localhost:8080/"
        },
        "outputId": "1b3cbee6-b016-4d6d-f412-07677a9a49ff"
      },
      "outputs": [
        {
          "output_type": "stream",
          "name": "stdout",
          "text": [
            "(a) Yearly Differences in Occupied Housing Units: [-46295, -43673, -42108, -41007, -40704, -36711, -35916, -18466, -15284, -4083, -4023, -3562, -3359, -2760, -1508, -519, -198, -45, -41, -21, -18, -11, -1, 1448, 1593, 1972, 1983, 2031, 2809, 3273, 3441, 3748, 3938, 5278, 32228, 32333, 36491, 37372, 39095, 39458, 43481]\n",
            "(b) Percentage of Housing Units:\n",
            "2014  5.73%   94.27%\n",
            "2013  8.80%   91.20%\n",
            "2012  6.68%   93.32%\n",
            "2011  9.38%   90.62%\n",
            "2010  8.14%   91.86%\n",
            "2009  9.07%   90.93%\n",
            "2008  10.88%   89.12%\n",
            "(c) Highest Number of Housing Units:\n",
            "Vacant Housing Units      -----   -----\n",
            "                          2008    4483\n",
            "Occupied Housing Units    -----   -----\n",
            "                          2014    46295\n",
            "(d) Harmonic Mean:\n",
            "Harmonic mean of total housing units: 266389.71\n"
          ]
        }
      ],
      "source": [
        " # Your code here\n",
        "import os\n",
        "#os.getcwd()\n",
        "import csv\n",
        "from collections import OrderedDict\n",
        "\n",
        "def read_csv(file_path):\n",
        "    data = []\n",
        "    with open(file_path, newline='') as csvfile:\n",
        "        reader = csv.DictReader(csvfile)\n",
        "        for row in reader:\n",
        "            data.append(OrderedDict(row))\n",
        "    return data\n",
        "\n",
        "def get_yearly_difference(data):\n",
        "    differences=[]\n",
        "    for i in range(1, len(data)):\n",
        "        year_diff = int(data[i]['value'])-int(data[i-1]['value'])\n",
        "        differences.append(year_diff)\n",
        "    differences.sort()\n",
        "    return differences\n",
        "\n",
        "def get_percentage(data):\n",
        "    for row in data:\n",
        "        y=row['year']\n",
        "        val=int(row['value'])\n",
        "        title=row['title_field']\n",
        "        if title=='Vacant Housing Units':\n",
        "            vacant_units=val\n",
        "        elif title=='Occupied Housing Units':\n",
        "            occupied_units=val\n",
        "            total_units=vacant_units + occupied_units\n",
        "            vacant=(vacant_units / total_units) * 100\n",
        "            occupied=(occupied_units / total_units) * 100\n",
        "            print(f\"{y}  {vacant:.2f}%   {occupied:.2f}%\")\n",
        "\n",
        "\n",
        "def get_highest_units(data):\n",
        "    vacant_max=max(data, key=lambda x: int(x['value']) if x['title_field']=='Vacant Housing Units' else 0)\n",
        "    occupied_max=max(data, key=lambda x: int(x['value']) if x['title_field']=='Occupied Housing Units' else 0)\n",
        "\n",
        "    print(\"Vacant Housing Units      -----   -----\")\n",
        "    print(f\"                          {vacant_max['year']}    {vacant_max['value']}\")\n",
        "\n",
        "    print(\"Occupied Housing Units    -----   -----\")\n",
        "    print(f\"                          {occupied_max['year']}    {occupied_max['value']}\")\n",
        "\n",
        "def get_h_mean(data):\n",
        "    units_inverse_sum=sum(1/int(row['value']) for row in data if row['title_field']=='Total Housing Units')\n",
        "    h_mean=len(data)/units_inverse_sum\n",
        "    print(f\"Harmonic mean of total housing units: {h_mean:.2f}\")\n",
        "\n",
        "filepath = '/content/Assignment1_denton_housing-1.csv'\n",
        "\n",
        "#filepath = ('Downloads/Assignment1_denton_housing-1.csv')\n",
        "data = read_csv(filepath)\n",
        "\n",
        "# (a) difference in number of Occupied Housing Units between years\n",
        "differences = get_yearly_difference(data)\n",
        "print(\"(a) Yearly Differences in Occupied Housing Units:\", differences)\n",
        "\n",
        "# (b) percentage of housing units for all years\n",
        "print(\"(b) Percentage of Housing Units:\")\n",
        "get_percentage(data)\n",
        "\n",
        "# (c)years in highest number of housing units\n",
        "print(\"(c) Highest Number of Housing Units:\")\n",
        "get_highest_units(data)\n",
        "\n",
        "# (d) harmonic mean of total housing units\n",
        "print(\"(d) Harmonic Mean:\")\n",
        "get_h_mean(data)\n"
      ]
    },
    {
      "cell_type": "markdown",
      "source": [
        "# Mandatory Question\n",
        "\n",
        "Provide your thoughts on the assignment. What did you find challenging, and what aspects did you enjoy? Your opinion on the provided time to complete the assignment. Share any suggestions for improvement. Your feedback will be valuable for enhancing the learning experience."
      ],
      "metadata": {
        "id": "q8BFCvWp32cf"
      }
    },
    {
      "cell_type": "code",
      "source": [
        "# Write your response below\n",
        "\n",
        "I Found this assignment little bit challenging after many days i started coding again it helped me in refressing all the concepts that i am aware about python. I feel the provided time is sufficient to complete the assignment.I feel everything is provided well when comes to this assignment."
      ],
      "metadata": {
        "id": "_e557s2w4BpK"
      },
      "execution_count": null,
      "outputs": []
    }
  ],
  "metadata": {
    "colab": {
      "provenance": [],
      "include_colab_link": true
    },
    "kernelspec": {
      "display_name": "Python 3 (ipykernel)",
      "language": "python",
      "name": "python3"
    },
    "language_info": {
      "codemirror_mode": {
        "name": "ipython",
        "version": 3
      },
      "file_extension": ".py",
      "mimetype": "text/x-python",
      "name": "python",
      "nbconvert_exporter": "python",
      "pygments_lexer": "ipython3",
      "version": "3.9.12"
    }
  },
  "nbformat": 4,
  "nbformat_minor": 0
}