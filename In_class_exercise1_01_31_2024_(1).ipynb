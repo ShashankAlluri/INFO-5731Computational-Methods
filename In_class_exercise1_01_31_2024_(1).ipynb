{
  "cells": [
    {
      "cell_type": "markdown",
      "metadata": {
        "id": "DymRJbxDBCnf"
      },
      "source": [
        "# **This first In-class-exercise cover a variety of fundamental concepts in Python and are designed to help individuals improve their coding skills and problem-solving abilities.**\n",
        "\n",
        "The submission is due on 01/31/2024 11:59 PM. This submission is worth 40 points in total.\n"
      ]
    },
    {
      "cell_type": "markdown",
      "source": [
        "(1) Write a Python program that  prompts the user to input the length and width of a rectangle, and then calculates and displays the area of the rectangle."
      ],
      "metadata": {
        "id": "FBKvD6O_TY6e"
      }
    },
    {
      "cell_type": "code",
      "source": [
        "# write your answer here\n",
        "l = int(input(\"Enter the Length\"))\n",
        "w = int(input(\"Enter the Width\"))\n",
        "area = l*w\n",
        "print(area)\n"
      ],
      "metadata": {
        "id": "cikVKDXdTbzE"
      },
      "execution_count": null,
      "outputs": []
    },
    {
      "cell_type": "markdown",
      "source": [
        "(2) Create a Python program that interactively takes two numerical inputs from the user and swaps their values without utilizing an extra variable."
      ],
      "metadata": {
        "id": "E9RqrlwdTfvl"
      }
    },
    {
      "cell_type": "code",
      "source": [
        "# write your answer here\n",
        "a = int(input(\"Enter first number\"))\n",
        "b = int(input(\"Enter second number\"))\n",
        "a = a+b\n",
        "b = a-b\n",
        "a = a-b\n",
        "print(\"a: \",a)\n",
        "print(\"b: \",b)"
      ],
      "metadata": {
        "id": "4XvRknixTh1g",
        "colab": {
          "base_uri": "https://localhost:8080/"
        },
        "outputId": "a572de7f-5ca1-4e15-f3ab-2e144d690807"
      },
      "execution_count": null,
      "outputs": [
        {
          "output_type": "stream",
          "name": "stdout",
          "text": [
            "Enter first number3\n",
            "Enter second number2\n",
            "a:  2\n",
            "b:  3\n"
          ]
        }
      ]
    },
    {
      "cell_type": "markdown",
      "metadata": {
        "id": "03jb4GZsBkBS"
      },
      "source": [
        "(3) Write a Python script to determine and print the length of a user-input string."
      ]
    },
    {
      "cell_type": "code",
      "execution_count": null,
      "metadata": {
        "id": "YaGLbSHHB8Ej",
        "colab": {
          "base_uri": "https://localhost:8080/"
        },
        "outputId": "30be47d1-445c-4204-828d-fa6369e57090"
      },
      "outputs": [
        {
          "output_type": "stream",
          "name": "stdout",
          "text": [
            "Enter the stringHello\n",
            "5\n"
          ]
        }
      ],
      "source": [
        "# write your answer here\n",
        "s = input(\"Enter the string: \")\n",
        "print(len(s))\n"
      ]
    },
    {
      "cell_type": "markdown",
      "metadata": {
        "id": "jJDe71iLB616"
      },
      "source": [
        "(4) Construct a Python program that counts and displays the occurrences of each character in a given string.\n",
        "\n",
        "Sample String: 'openai.ai',\n",
        "\n",
        "Expected Result: {'a': 2, 'i': 2, '.': 1, 'o': 1, 'p': 1, 'e': 1, 'n': 1}"
      ]
    },
    {
      "cell_type": "code",
      "execution_count": null,
      "metadata": {
        "id": "MtKskTzbCLaU",
        "colab": {
          "base_uri": "https://localhost:8080/"
        },
        "outputId": "e6226dbd-b7ba-4e6b-9a5c-fe6d576af036"
      },
      "outputs": [
        {
          "output_type": "stream",
          "name": "stdout",
          "text": [
            "Enter the String: hello man\n",
            "{'h': 1, 'e': 1, 'l': 2, 'o': 1, ' ': 1, 'm': 1, 'a': 1, 'n': 1}\n"
          ]
        }
      ],
      "source": [
        "# write your answer here\n",
        "s = input(\"Enter the String: \")\n",
        "dict={}\n",
        "for i in s:\n",
        "  if i in dict:\n",
        "    dict[i]+=1;\n",
        "  else:\n",
        "    dict[i]=1\n",
        "print(dict)"
      ]
    },
    {
      "cell_type": "markdown",
      "metadata": {
        "id": "55W9AMdXCSpV"
      },
      "source": [
        "(5) Design a Python code to calculate the sum of all elements in a user-provided list."
      ]
    },
    {
      "cell_type": "code",
      "execution_count": null,
      "metadata": {
        "id": "I57NXsauCec2",
        "colab": {
          "base_uri": "https://localhost:8080/"
        },
        "outputId": "e7ab4364-a9de-4f69-8e14-405d22cefaa0"
      },
      "outputs": [
        {
          "output_type": "stream",
          "name": "stdout",
          "text": [
            "Enter the list 3 4 5 6 \n",
            "18\n"
          ]
        }
      ],
      "source": [
        "# write your answer here\n",
        "a = list(map(int,input(\"Enter the list \").split()))\n",
        "print(sum(a))\n"
      ]
    },
    {
      "cell_type": "markdown",
      "metadata": {
        "id": "4ulBZ6yhCi9F"
      },
      "source": [
        "(6) Write a Python program that modifies a given string by replacing all occurrences of its first character with '$', excluding the first character itself.\n",
        "\n",
        "\n",
        "Sample String : 'restart‘,\n",
        "\n",
        "Expected Result : 'resta\\$t'"
      ]
    },
    {
      "cell_type": "code",
      "execution_count": null,
      "metadata": {
        "id": "Fj0XhwbBCw2o",
        "colab": {
          "base_uri": "https://localhost:8080/"
        },
        "outputId": "e2747436-8aec-4c52-d2b8-da8d2febc97b"
      },
      "outputs": [
        {
          "output_type": "stream",
          "name": "stdout",
          "text": [
            "Original String: restart\n",
            "Updated String: resta$t\n"
          ]
        }
      ],
      "source": [
        "# write your answer here\n",
        "def func(s):\n",
        "    if len(s) < 2:\n",
        "        return s\n",
        "\n",
        "    fst_char = s[0]\n",
        "    modified_string = fst_char + s[1:].replace(fst_char, '$')\n",
        "\n",
        "    return modified_string\n",
        "\n",
        "s = 'restart'\n",
        "\n",
        "res = func(s)\n",
        "print(f\"Original String: {s}\")\n",
        "print(f\"Updated String: {res}\")\n",
        "\n"
      ]
    },
    {
      "cell_type": "markdown",
      "source": [
        "(7) Write a Python program using a while loop to compute the factorial of a user-supplied number."
      ],
      "metadata": {
        "id": "qVXA3q7ET5JI"
      }
    },
    {
      "cell_type": "code",
      "source": [
        "# write your answer here\n",
        "n = int(input(\"Enter a number \"))\n",
        "i=1\n",
        "ans=1\n",
        "while i<=n:\n",
        "  ans=ans*i\n",
        "  i+=1\n",
        "print(ans)"
      ],
      "metadata": {
        "id": "Lbt7R6UkT7BA",
        "colab": {
          "base_uri": "https://localhost:8080/"
        },
        "outputId": "8b3546fb-b104-45b8-d64b-aee122f1fe8b"
      },
      "execution_count": null,
      "outputs": [
        {
          "output_type": "stream",
          "name": "stdout",
          "text": [
            "Enter a number 4\n",
            "24\n"
          ]
        }
      ]
    },
    {
      "cell_type": "markdown",
      "source": [
        "(8) Create a program that accepts a list of numbers as input and outputs a new list containing only the even numbers."
      ],
      "metadata": {
        "id": "6YfbzXMNT--R"
      }
    },
    {
      "cell_type": "code",
      "source": [
        "# write your answer here\n",
        "a = list(map(int,input(\"Enter the list \").split()))\n",
        "ans=[]\n",
        "for i in a:\n",
        "  if i%2==0:\n",
        "    ans.append(i)\n",
        "print(ans)"
      ],
      "metadata": {
        "id": "54q7wMQPUAKu",
        "colab": {
          "base_uri": "https://localhost:8080/"
        },
        "outputId": "ca694c60-c26d-44a7-eb77-8d1df492cb78"
      },
      "execution_count": null,
      "outputs": [
        {
          "output_type": "stream",
          "name": "stdout",
          "text": [
            "Enter the list 2 4 3 6 8 5\n",
            "[2, 4, 6, 8]\n"
          ]
        }
      ]
    },
    {
      "cell_type": "markdown",
      "metadata": {
        "id": "_bIP7s1MCzue"
      },
      "source": [
        "\n",
        "(9) Design a Python function to check if a number is prime.\n"
      ]
    },
    {
      "cell_type": "code",
      "execution_count": null,
      "metadata": {
        "id": "w79QilHXD3Mg",
        "colab": {
          "base_uri": "https://localhost:8080/"
        },
        "outputId": "98f7e74c-84fb-403e-efb1-68f1bc46d9ff"
      },
      "outputs": [
        {
          "output_type": "stream",
          "name": "stdout",
          "text": [
            "Enter a number 5\n",
            "5 is prime\n"
          ]
        }
      ],
      "source": [
        "# write your answer here\n",
        "def find_prime(n):\n",
        "    if n<2:\n",
        "        return False\n",
        "    for i in range(2, int(n**0.5)+1):\n",
        "        if n % i == 0:\n",
        "            return False\n",
        "    return True\n",
        "\n",
        "n = int(input(\"Enter a number \"))\n",
        "if find_prime(n):\n",
        "    print(f\"{n} is prime\")\n",
        "else:\n",
        "    print(f\"{n} is not a prime\")\n",
        "\n"
      ]
    },
    {
      "cell_type": "markdown",
      "metadata": {
        "id": "xCa2bK9aD4Q3"
      },
      "source": [
        "(10) Write a Python program to concatenate following dictionaries to create a new one.\n",
        "\n",
        "Sample Dictionary : dic1={1:10, 2:20}, dic2={3:30, 4:40}, dic3={5:50,6:60},\n",
        "\n",
        "Expected Result : {1: 10, 2: 20, 3: 30, 4: 40, 5: 50, 6: 60}\n"
      ]
    },
    {
      "cell_type": "code",
      "execution_count": null,
      "metadata": {
        "id": "_z4aLqAbEET1",
        "colab": {
          "base_uri": "https://localhost:8080/"
        },
        "outputId": "9539b3ae-b634-47f7-aab4-ac0f45db9715"
      },
      "outputs": [
        {
          "output_type": "stream",
          "name": "stdout",
          "text": [
            "Final result: {1: 10, 2: 20, 3: 30, 4: 40, 5: 50, 6: 60}\n"
          ]
        }
      ],
      "source": [
        "# write your answer here\n",
        "dict1 = {1: 10, 2: 20}\n",
        "dict2 = {3: 30, 4: 40}\n",
        "dict3 = {5: 50, 6: 60}\n",
        "\n",
        "res= {}\n",
        "res.update(dict1)\n",
        "res.update(dict2)\n",
        "res.update(dict3)\n",
        "print(\"Final result:\", res)\n",
        "\n"
      ]
    },
    {
      "cell_type": "markdown",
      "source": [
        "(11) Design a Python function that takes a tuple of integers as input and returns the largest and smallest elements."
      ],
      "metadata": {
        "id": "bkyZ2xSZUOst"
      }
    },
    {
      "cell_type": "code",
      "source": [
        "# write your answer here\n",
        "def find_numbers(n):\n",
        "    mn_ele=mx_ele=n[0]\n",
        "    for num in n:\n",
        "        if num<mn_ele:\n",
        "            mn_ele=num\n",
        "        elif num>mx_ele:\n",
        "            mx_ele=num\n",
        "    return mn_ele, mx_ele\n",
        "\n",
        "n=(3,1,9,6,4,8)\n",
        "mn_val, mx_val = find_numbers(n)\n",
        "print(f\"Minimum: {mn_val}\")\n",
        "print(f\"Maximum: {mx_val}\")\n"
      ],
      "metadata": {
        "id": "3FdLRBKOUQEd",
        "colab": {
          "base_uri": "https://localhost:8080/"
        },
        "outputId": "43e6bc1f-0cd1-425d-ec4b-f2352ea71353"
      },
      "execution_count": null,
      "outputs": [
        {
          "output_type": "stream",
          "name": "stdout",
          "text": [
            "Minimum: 1\n",
            "Maximum: 9\n"
          ]
        }
      ]
    },
    {
      "cell_type": "markdown",
      "source": [
        "(12) Write a Python program that counts the frequency of each character in a given string and stores it in a dictionary."
      ],
      "metadata": {
        "id": "O0TVi3gKUTpp"
      }
    },
    {
      "cell_type": "code",
      "source": [
        "# write your answer here\n",
        "s = input(\"Enter the string \")\n",
        "dict={}\n",
        "for i in s:\n",
        "  if i in dict:\n",
        "    dict[i]+=1;\n",
        "  else:\n",
        "    dict[i]=1\n",
        "print(dict)"
      ],
      "metadata": {
        "id": "lAtfSfZXUU-h",
        "colab": {
          "base_uri": "https://localhost:8080/"
        },
        "outputId": "d22b8bfc-42f3-4770-f14d-600d0d278a47"
      },
      "execution_count": null,
      "outputs": [
        {
          "output_type": "stream",
          "name": "stdout",
          "text": [
            "Enter the string gello\n",
            "{'g': 1, 'e': 1, 'l': 2, 'o': 1}\n"
          ]
        }
      ]
    },
    {
      "cell_type": "markdown",
      "metadata": {
        "id": "0v48Vqa7FrQh"
      },
      "source": [
        "(13) Implement a Python script to identify duplicate elements in a provided array of integers. Return -1 if there are no duplicates."
      ]
    },
    {
      "cell_type": "code",
      "execution_count": null,
      "metadata": {
        "id": "7WEmgq-DF2P1",
        "colab": {
          "base_uri": "https://localhost:8080/"
        },
        "outputId": "f707cc3c-3556-4ecc-d0cf-15f5cad04bfb"
      },
      "outputs": [
        {
          "output_type": "stream",
          "name": "stdout",
          "text": [
            "Enter the array 2 3 4 2 5 4\n",
            "[2, 4]\n"
          ]
        }
      ],
      "source": [
        "# write your answer here\n",
        "a = list(map(int,input(\"Enter the array \").split()))\n",
        "dict={}\n",
        "for i in a:\n",
        "  if i in dict:\n",
        "    dict[i]+=1;\n",
        "  else:\n",
        "    dict[i]=1\n",
        "ans=[]\n",
        "for i in dict:\n",
        "  if dict[i]>1:\n",
        "    ans.append(i)\n",
        "if len(ans)==0:\n",
        "  print(\"-1\")\n",
        "else:\n",
        "  print(ans)\n",
        "\n"
      ]
    },
    {
      "cell_type": "markdown",
      "metadata": {
        "id": "vD5PYLMuGga_"
      },
      "source": [
        "(14) Write a Python script to find the common elements between two lists."
      ]
    },
    {
      "cell_type": "code",
      "execution_count": null,
      "metadata": {
        "id": "t0D5kdJUGjjw",
        "colab": {
          "base_uri": "https://localhost:8080/"
        },
        "outputId": "7baf444a-2eb0-40d3-e600-4a3f54b2bbdd"
      },
      "outputs": [
        {
          "output_type": "stream",
          "name": "stdout",
          "text": [
            "Enter the first array 3 4 2 5 4\n",
            "Enter the second array 3 4 5 2 \n",
            "[3, 4, 2, 5, 4]\n"
          ]
        }
      ],
      "source": [
        "# write your answer here\n",
        "a = list(map(int,input(\"Enter the first array \").split()))\n",
        "b = list(map(int,input(\"Enter the second array \").split()))\n",
        "\n",
        "ans=[]\n",
        "for i in a:\n",
        "  if i in b:\n",
        "    ans.append(i)\n",
        "print(ans)\n",
        "\n",
        "\n"
      ]
    },
    {
      "cell_type": "markdown",
      "metadata": {
        "id": "uHkd-y5VhVWC"
      },
      "source": [
        "(15) Write a Python program to randomly divide the students in this class into six groups for term projects, each group should have at least 4 students but no more than 6 students (including 6).\n",
        "\n",
        "Here is the students list:\n",
        "\n",
        "student_list_spring_2024=[rb0846,\n",
        "ac1964,\n",
        "hc0612,\n",
        "md0912,\n",
        "ad1198,\n",
        "md0894,\n",
        "md0825,\n",
        "vg0598,\n",
        "vg0433,\n",
        "mh1068,\n",
        "yj0173,\n",
        "pk0553,\n",
        "tk0411,\n",
        "srk0204,\n",
        "sk2922,\n",
        "sk2936,\n",
        "mk1302,\n",
        "mk1317,\n",
        "tk0412,\n",
        "vk0656,\n",
        "sm2985,\n",
        "mm2372,\n",
        "un0045,\n",
        "an0892,\n",
        "sn0913,\n",
        "gp0252,\n",
        "ap1484,\n",
        "mr1765,\n",
        "sr1385,\n",
        "sr1335,\n",
        "hs0665,\n",
        "ms2060,\n",
        "gt0217,\n",
        "nt0385,\n",
        "tv0186,\n",
        "sv1394,\n",
        "sv1752,\n",
        "sv1555,\n",
        "sy0594\n",
        "]\n"
      ]
    },
    {
      "cell_type": "code",
      "execution_count": null,
      "metadata": {
        "id": "3iGbmcOBhTwy",
        "colab": {
          "base_uri": "https://localhost:8080/"
        },
        "outputId": "8b2466cd-b4b7-494a-d4f4-aab0a01bbe4a"
      },
      "outputs": [
        {
          "output_type": "stream",
          "name": "stdout",
          "text": [
            "Group 1: ['sk2922', 'ap1484', 'md0894', 'mk1317', 'md0825', 'sv1555', 'hc0612']\n",
            "Group 2: ['mk1302', 'nt0385', 'tv0186', 'ad1198', 'yj0173', 'ms2060', 'md0912']\n",
            "Group 3: ['sv1394', 'mh1068', 'un0045', 'ac1964', 'pk0553', 'mm2372', 'mr1765']\n",
            "Group 4: ['sv1752', 'sk2936', 'vg0598', 'sr1385', 'gt0217', 'sn0913']\n",
            "Group 5: ['hs0665', 'sr1335', 'sm2985', 'srk0204', 'sy0594', 'an0892']\n",
            "Group 6: ['vk0656', 'gp0252', 'vg0433', 'tk0412', 'rb0846', 'tk0411']\n"
          ]
        }
      ],
      "source": [
        "# write your answer here\n",
        "import random\n",
        "\n",
        "def divide_grps(s, min_group_size=4, max_group_size=6):\n",
        "    random.shuffle(s)\n",
        "    groups = [[] for _ in range(6)]\n",
        "\n",
        "    for student in s:\n",
        "        groups_del = [i for i, group in enumerate(groups) if len(group) < max_group_size]\n",
        "        if not groups_del:\n",
        "            groups_del=range(6)\n",
        "        ch=random.choice(groups_del)\n",
        "        groups[ch].append(student)\n",
        "    return groups\n",
        "\n",
        "student_list_spring_2024 = [\"rb0846\", \"ac1964\", \"hc0612\", \"md0912\", \"ad1198\", \"md0894\", \"md0825\", \"vg0598\", \"vg0433\",\n",
        "                             \"mh1068\", \"yj0173\", \"pk0553\", \"tk0411\", \"srk0204\", \"sk2922\", \"sk2936\", \"mk1302\", \"mk1317\",\n",
        "                             \"tk0412\", \"vk0656\", \"sm2985\", \"mm2372\", \"un0045\", \"an0892\", \"sn0913\", \"gp0252\", \"ap1484\",\n",
        "                             \"mr1765\", \"sr1385\", \"sr1335\", \"hs0665\", \"ms2060\", \"gt0217\", \"nt0385\", \"tv0186\", \"sv1394\",\n",
        "                             \"sv1752\", \"sv1555\", \"sy0594\"]\n",
        "\n",
        "res = divide_grps(student_list_spring_2024)\n",
        "for i, group in enumerate(res, start=1):\n",
        "    print(f\"Group {i}: {group}\")\n"
      ]
    },
    {
      "cell_type": "markdown",
      "metadata": {
        "id": "fmZ9vX20Qs3d"
      },
      "source": [
        "(16) Create a program that takes a positive integer 'n' as input and prints the count of even numbers from 1 to 'n'. Optimize the loop using the break statement."
      ]
    },
    {
      "cell_type": "code",
      "execution_count": null,
      "metadata": {
        "id": "W8Jw6sWMQs3d",
        "colab": {
          "base_uri": "https://localhost:8080/"
        },
        "outputId": "4f634641-2c0c-4165-8ca9-0a6dd07580de"
      },
      "outputs": [
        {
          "output_type": "stream",
          "name": "stdout",
          "text": [
            "Enter the number 10\n",
            "5\n"
          ]
        }
      ],
      "source": [
        "# write your answer here\n",
        "n = int(input(\"Enter the number \"))\n",
        "i=1\n",
        "c=0\n",
        "while i<=n:\n",
        "  if i%2==0:\n",
        "    c+=1\n",
        "  i+=1\n",
        "print(c)\n"
      ]
    },
    {
      "cell_type": "markdown",
      "metadata": {
        "id": "hvq4APMhQs3d"
      },
      "source": [
        "(17) Develop a Python function called 'count_vowels' that takes a string as input and returns the count of vowels (both lowercase and uppercase) present in the string, ignoring spaces and non-alphabetic characters."
      ]
    },
    {
      "cell_type": "code",
      "execution_count": null,
      "metadata": {
        "id": "ZnoxhSglQs3d",
        "colab": {
          "base_uri": "https://localhost:8080/"
        },
        "outputId": "260452f3-387e-4695-be7c-28c103b4333a"
      },
      "outputs": [
        {
          "output_type": "stream",
          "name": "stdout",
          "text": [
            "Enter a stringAeiou\n",
            "5\n"
          ]
        }
      ],
      "source": [
        "# write your answer here\n",
        "s = input(\"Enter a string\")\n",
        "c=0\n",
        "s=s.lower()\n",
        "for i in s:\n",
        "  if i=='a' or i=='e' or i=='i' or i=='o' or i=='u':\n",
        "    c+=1\n",
        "print(c)\n"
      ]
    },
    {
      "cell_type": "markdown",
      "source": [
        "(18) Create a custom exception named ValueTooSmallError in Python. Write a program that takes user input for an age, and if the entered age is less than 18, raise the ValueTooSmallError with an appropriate error message."
      ],
      "metadata": {
        "id": "55FWoSJPVVM6"
      }
    },
    {
      "cell_type": "code",
      "source": [
        "# write your answer here\n",
        "class ValueTooSmallError(Exception):\n",
        "    \"\"\"Custom exception for values that are too small.\"\"\"\n",
        "    pass\n",
        "\n",
        "def check_age(age):\n",
        "    if age < 18:\n",
        "        raise ValueTooSmallError(\"Age should be 18 or older.\")\n",
        "    else:\n",
        "        print(\"Age is valid.\")\n",
        "\n",
        "try:\n",
        "    age = int(input(\"Enter your age: \"))\n",
        "    check_age(age)\n",
        "except ValueError:\n",
        "    print(\"Please enter a valid integer for age.\")\n",
        "except ValueTooSmallError as e:\n",
        "    print(f\"Error: {e}\")\n"
      ],
      "metadata": {
        "id": "hwtr1wZmVX5A",
        "colab": {
          "base_uri": "https://localhost:8080/"
        },
        "outputId": "a18ddcc0-1217-419a-f5eb-2b2804b610e8"
      },
      "execution_count": null,
      "outputs": [
        {
          "output_type": "stream",
          "name": "stdout",
          "text": [
            "Enter your age: 9\n",
            "Error: Age should be 18 or older.\n"
          ]
        }
      ]
    },
    {
      "cell_type": "markdown",
      "source": [
        "(19) Develop a script that reverses a given string without using built-in reverse functions."
      ],
      "metadata": {
        "id": "Q9ecagcaVazW"
      }
    },
    {
      "cell_type": "code",
      "source": [
        "# write your answer here\n",
        "s = input(\"Enter a string \")\n",
        "rev_str=\"\"\n",
        "for i in range(len(s)-1,-1,-1):\n",
        "  rev_str+=s[i]\n",
        "print(rev_str)"
      ],
      "metadata": {
        "id": "gycgckoAVZjR",
        "colab": {
          "base_uri": "https://localhost:8080/"
        },
        "outputId": "4a721d02-9fe5-4632-c8e5-f6a360b247b9"
      },
      "execution_count": null,
      "outputs": [
        {
          "output_type": "stream",
          "name": "stdout",
          "text": [
            "Enter a string hello\n",
            "olleh\n"
          ]
        }
      ]
    },
    {
      "cell_type": "markdown",
      "source": [
        "(20) Implement a Python script to generate a random password of a specified length."
      ],
      "metadata": {
        "id": "ZFG6RibifMLu"
      }
    },
    {
      "cell_type": "code",
      "source": [
        "# write your answer here\n",
        "import random\n",
        "import string\n",
        "\n",
        "def get_pass(length):\n",
        "    ch = string.ascii_letters+string.digits\n",
        "    password = ''.join(random.choice(ch) for _ in range(length))\n",
        "    return password\n",
        "\n",
        "n_len= int(input(\"Enter password length: \"))\n",
        "if n_len <= 0:\n",
        "    print(\"Password length must be greater than 0.\")\n",
        "else:\n",
        "    password=get_pass(n_len)\n",
        "    print(\"Password:\",password)\n"
      ],
      "metadata": {
        "id": "BFVrkEi9fNiD",
        "colab": {
          "base_uri": "https://localhost:8080/"
        },
        "outputId": "9bc8b358-d01f-4e73-c4f0-16b4e55db4bd"
      },
      "execution_count": null,
      "outputs": [
        {
          "output_type": "stream",
          "name": "stdout",
          "text": [
            "Enter password length: 5\n",
            "Password: 7mBKk\n"
          ]
        }
      ]
    },
    {
      "cell_type": "markdown",
      "source": [
        "# Try these questions:"
      ],
      "metadata": {
        "id": "6SmvS7nSfbj8"
      }
    },
    {
      "cell_type": "markdown",
      "source": [
        "(21) Define a base class called 'Vehicle' with attributes make and model. Create a derived class Car that inherits from Vehicle and has an additional attribute 'num_doors'. Demonstrate an example of creating an instance of the 'Car' class and accessing its attributes."
      ],
      "metadata": {
        "id": "cboAr5pEWUf5"
      }
    },
    {
      "cell_type": "code",
      "source": [
        "# write your answer here\n",
        "class Vehicle:\n",
        "    def __init__(self, make, model):\n",
        "        self.make = make\n",
        "        self.model = model\n",
        "\n",
        "class Car(Vehicle):\n",
        "    def __init__(self, make, model, num_doors):\n",
        "        super().__init__(make, model)\n",
        "        self.num_doors = num_doors\n",
        "\n",
        "car= Car(make=\"Audi\", model=\"Abcd\", num_doors=4)\n",
        "\n",
        "print(f\"Make: {car.make}\")\n",
        "print(f\"Model: {car.model}\")\n",
        "print(f\"Number of Doors: {car.num_doors}\")\n"
      ],
      "metadata": {
        "id": "phs9gciMWWAW",
        "colab": {
          "base_uri": "https://localhost:8080/"
        },
        "outputId": "f2ec302e-9a2b-494d-a130-2047decd3ba4"
      },
      "execution_count": null,
      "outputs": [
        {
          "output_type": "stream",
          "name": "stdout",
          "text": [
            "Make: Audi\n",
            "Model: Abcd\n",
            "Number of Doors: 4\n"
          ]
        }
      ]
    },
    {
      "cell_type": "markdown",
      "source": [
        "(22) Create a class called 'Shape' with a method calculate_area(). Implement two derived classes 'Circle' and 'Rectangle' that inherit from Shape and override the calculate_area() method. Demonstrate polymorphism by creating instances of both derived classes and calling the calculate_area() method."
      ],
      "metadata": {
        "id": "J8HHefNtePwd"
      }
    },
    {
      "cell_type": "code",
      "source": [
        "# write your answer here\n",
        "import math\n",
        "\n",
        "class Shape:\n",
        "    def calculate_area(self):\n",
        "        pass\n",
        "\n",
        "class Circle(Shape):\n",
        "    def __init__(self, radius):\n",
        "        self.radius = radius\n",
        "\n",
        "    def calculate_area(self):\n",
        "        return math.pi * self.radius**2\n",
        "\n",
        "class Rectangle(Shape):\n",
        "    def __init__(self, width, height):\n",
        "        self.width = width\n",
        "        self.height = height\n",
        "\n",
        "    def calculate_area(self):\n",
        "        return self.width * self.height\n",
        "\n",
        "circle = Circle(radius=6)\n",
        "rectangle = Rectangle(width=5, height=4)\n",
        "\n",
        "print(f\"Area of Circle: {circle.calculate_area():.2f}\")\n",
        "print(f\"Area of Rectangle: {rectangle.calculate_area()}\")\n"
      ],
      "metadata": {
        "id": "btnMmUZDeRhS",
        "colab": {
          "base_uri": "https://localhost:8080/"
        },
        "outputId": "ff5ea61f-80fa-4560-c26e-e54927b2bf32"
      },
      "execution_count": 1,
      "outputs": [
        {
          "output_type": "stream",
          "name": "stdout",
          "text": [
            "Area of Circle: 113.10\n",
            "Area of Rectangle: 20\n"
          ]
        }
      ]
    },
    {
      "cell_type": "markdown",
      "source": [
        "(23) Write a Python program that prompts the user to enter two numbers and perform a division operation. Handle exceptions for both zero division and invalid input (non-numeric input). Display appropriate error messages for each type of exception and ensure the program does not crash due to these errors."
      ],
      "metadata": {
        "id": "z0oqEAlTeMUS"
      }
    },
    {
      "cell_type": "code",
      "source": [
        "# write your answer here\n",
        "def division():\n",
        "    try:\n",
        "        n = float(input(\"Enter the numerator: \"))\n",
        "        d = float(input(\"Enter the denominator: \"))\n",
        "        result = n / d\n",
        "        print(f\"Result of division: {result}\")\n",
        "\n",
        "    except ValueError:\n",
        "        print(\"Invalid input\")\n",
        "\n",
        "    except ZeroDivisionError:\n",
        "        print(\"Division by zero is not allowed.\")\n",
        "\n",
        "\n",
        "division()\n"
      ],
      "metadata": {
        "id": "yjdc1zM1eMAs",
        "colab": {
          "base_uri": "https://localhost:8080/"
        },
        "outputId": "24602e62-aebd-417c-c184-58840a3e4730"
      },
      "execution_count": null,
      "outputs": [
        {
          "output_type": "stream",
          "name": "stdout",
          "text": [
            "Enter the numerator: 5\n",
            "Enter the denominator: 5\n",
            "Result of division: 1.0\n"
          ]
        }
      ]
    },
    {
      "cell_type": "markdown",
      "source": [
        "# Mandatory Question"
      ],
      "metadata": {
        "id": "sZOhks1dXWEe"
      }
    },
    {
      "cell_type": "markdown",
      "source": [
        "**Important:**\n",
        "Reflecting on the first three lectures and the exercises you've completed, please provide feedback on your learning experience. Share your thoughts on whether the material covered was clear, the exercises were helpful, and if you feel more confident in applying Python programming concepts. Additionally, mention any specific areas where you would like more clarification or topics you would like to explore further in future lectures. Your feedback is valuable in shaping the course for an effective learning journey."
      ],
      "metadata": {
        "id": "eqmHVEwaWhbV"
      }
    },
    {
      "cell_type": "code",
      "source": [],
      "metadata": {
        "id": "u_Xtb9HEoNaz"
      },
      "execution_count": null,
      "outputs": []
    },
    {
      "cell_type": "markdown",
      "source": [
        "Write your response here."
      ],
      "metadata": {
        "id": "HlpXOT9wXQAd"
      }
    },
    {
      "cell_type": "code",
      "source": [
        "The First Lectures were clear,making it easy to understand python concepts.Before starting this course,I had a little bit knowledge about Python coding.After listening to the lectures and listening to Seminars provided online and offline by Bhanu Prasad.Personally,I really got motivated by listening to them and my interest towards coding has increased more. I am really excited to do more exercises in online and leetcode to improve my coding skills.The exercises were helpful, boosting my confidence in applying programming skills.I am really exicted for future lectures. I coudnt perform well in In Class Quizzes.I personally feel i need more clarification and information about in class quizzes. So that i would really helpful for people who have less knowledge about coding. Overall,It is good experience and need more clarification about In class quizzes."
      ],
      "metadata": {
        "id": "Dq2aOZU7XIke"
      },
      "execution_count": null,
      "outputs": []
    }
  ],
  "metadata": {
    "colab": {
      "provenance": []
    },
    "kernelspec": {
      "display_name": "Python 3 (ipykernel)",
      "language": "python",
      "name": "python3"
    },
    "language_info": {
      "codemirror_mode": {
        "name": "ipython",
        "version": 3
      },
      "file_extension": ".py",
      "mimetype": "text/x-python",
      "name": "python",
      "nbconvert_exporter": "python",
      "pygments_lexer": "ipython3",
      "version": "3.9.12"
    }
  },
  "nbformat": 4,
  "nbformat_minor": 0
}